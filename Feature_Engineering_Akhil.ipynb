{
  "nbformat": 4,
  "nbformat_minor": 0,
  "metadata": {
    "colab": {
      "provenance": [],
      "include_colab_link": true
    },
    "kernelspec": {
      "name": "python3",
      "display_name": "Python 3"
    },
    "language_info": {
      "name": "python"
    }
  },
  "cells": [
    {
      "cell_type": "markdown",
      "metadata": {
        "id": "view-in-github",
        "colab_type": "text"
      },
      "source": [
        "<a href=\"https://colab.research.google.com/github/akhilps45/ICT-Assignments/blob/main/Feature_Engineering_Akhil.ipynb\" target=\"_parent\"><img src=\"https://colab.research.google.com/assets/colab-badge.svg\" alt=\"Open In Colab\"/></a>"
      ]
    },
    {
      "cell_type": "markdown",
      "source": [
        "## Use Heart Disease [Dataset](https://github.com/cksajil/DSAIRP25/blob/main/datasets/heart_disease.csv) and answer the following questions"
      ],
      "metadata": {
        "id": "97V1aD4PHw_5"
      }
    },
    {
      "cell_type": "markdown",
      "source": [
        "## 1. Find the top 5 important features to the target column"
      ],
      "metadata": {
        "id": "dSQarmgHH93D"
      }
    },
    {
      "cell_type": "code",
      "execution_count": 2,
      "metadata": {
        "id": "RMWtFKt6HpQR",
        "colab": {
          "base_uri": "https://localhost:8080/",
          "height": 258
        },
        "outputId": "1389657e-e16a-497d-a700-2d458d62f8ee"
      },
      "outputs": [
        {
          "output_type": "stream",
          "name": "stdout",
          "text": [
            "Top 5 important features to the target column:\n"
          ]
        },
        {
          "output_type": "execute_result",
          "data": {
            "text/plain": [
              "cp         0.134201\n",
              "thalach    0.120473\n",
              "ca         0.116755\n",
              "oldpeak    0.116151\n",
              "thal       0.097043\n",
              "dtype: float64"
            ],
            "text/html": [
              "<div>\n",
              "<style scoped>\n",
              "    .dataframe tbody tr th:only-of-type {\n",
              "        vertical-align: middle;\n",
              "    }\n",
              "\n",
              "    .dataframe tbody tr th {\n",
              "        vertical-align: top;\n",
              "    }\n",
              "\n",
              "    .dataframe thead th {\n",
              "        text-align: right;\n",
              "    }\n",
              "</style>\n",
              "<table border=\"1\" class=\"dataframe\">\n",
              "  <thead>\n",
              "    <tr style=\"text-align: right;\">\n",
              "      <th></th>\n",
              "      <th>0</th>\n",
              "    </tr>\n",
              "  </thead>\n",
              "  <tbody>\n",
              "    <tr>\n",
              "      <th>cp</th>\n",
              "      <td>0.134201</td>\n",
              "    </tr>\n",
              "    <tr>\n",
              "      <th>thalach</th>\n",
              "      <td>0.120473</td>\n",
              "    </tr>\n",
              "    <tr>\n",
              "      <th>ca</th>\n",
              "      <td>0.116755</td>\n",
              "    </tr>\n",
              "    <tr>\n",
              "      <th>oldpeak</th>\n",
              "      <td>0.116151</td>\n",
              "    </tr>\n",
              "    <tr>\n",
              "      <th>thal</th>\n",
              "      <td>0.097043</td>\n",
              "    </tr>\n",
              "  </tbody>\n",
              "</table>\n",
              "</div><br><label><b>dtype:</b> float64</label>"
            ]
          },
          "metadata": {},
          "execution_count": 2
        }
      ],
      "source": [
        "\n",
        "import pandas as pd\n",
        "import numpy as np\n",
        "import matplotlib.pyplot as plt\n",
        "import seaborn as sns\n",
        "df = pd.read_csv('/content/sample_data/heart_disease.csv')\n",
        "df\n",
        "from sklearn.ensemble import RandomForestClassifier\n",
        "X = df.drop('target', axis=1)\n",
        "y = df['target']\n",
        "model = RandomForestClassifier(random_state=42)\n",
        "model.fit(X, y)\n",
        "feature_importances = pd.Series(model.feature_importances_, index=X.columns)\n",
        "top_5_features = feature_importances.sort_values(ascending=False).head(5)\n",
        "print(\"Top 5 important features to the target column:\")\n",
        "top_5_features"
      ]
    },
    {
      "cell_type": "markdown",
      "source": [
        "## 2. Perform Box-Cox Transformations to relevant features"
      ],
      "metadata": {
        "id": "imoVr9ncIJON"
      }
    },
    {
      "cell_type": "code",
      "source": [
        "\n",
        "from scipy import stats\n",
        "numerical_features = df.select_dtypes(include=np.number).columns.tolist()\n",
        "features_to_transform = [f for f in numerical_features if f not in ['target', 'sex', 'fbs', 'exang', 'restecg', 'ca', 'thal']]\n",
        "for feature in features_to_transform:\n",
        "    if (df[feature] > 0).all():\n",
        "      df[feature], _ = stats.boxcox(df[feature])\n",
        "    else:\n",
        "        print(f\"Skipping Box-Cox transformation for '{feature}' as it contains non-positive values.\")\n",
        "print(\"\\nDataFrame after applying Box-Cox transformations:\")\n",
        "print(df.head())"
      ],
      "metadata": {
        "colab": {
          "base_uri": "https://localhost:8080/"
        },
        "id": "up_2dxf2SCZR",
        "outputId": "ef10dcfe-7345-499a-8829-3b775de3743c"
      },
      "execution_count": 3,
      "outputs": [
        {
          "output_type": "stream",
          "name": "stdout",
          "text": [
            "Skipping Box-Cox transformation for 'cp' as it contains non-positive values.\n",
            "Skipping Box-Cox transformation for 'oldpeak' as it contains non-positive values.\n",
            "Skipping Box-Cox transformation for 'slope' as it contains non-positive values.\n",
            "\n",
            "DataFrame after applying Box-Cox transformations:\n",
            "          age  sex  cp  trestbps      chol  fbs  restecg       thalach  exang  \\\n",
            "0  272.372422    1   0  1.313869  4.138422    0        1  31304.507138      0   \n",
            "1  280.429390    1   0  1.316925  4.113094    1        0  26281.482428      1   \n",
            "2  429.185698    1   0  1.317821  4.022191    0        1  16473.082758      1   \n",
            "3  347.725370    1   0  1.318333  4.113094    0        1  28540.954701      0   \n",
            "4  356.482692    0   0  1.316551  4.325814    1        1  11515.351967      0   \n",
            "\n",
            "   oldpeak  slope  ca  thal  target  \n",
            "0      1.0      2   2     3       0  \n",
            "1      3.1      0   0     3       0  \n",
            "2      2.6      0   0     3       0  \n",
            "3      0.0      2   1     3       0  \n",
            "4      1.9      1   3     2       0  \n"
          ]
        }
      ]
    },
    {
      "cell_type": "markdown",
      "source": [
        "## 3. Perform Feature Binning to Age Column and add it as a new column to the dataset"
      ],
      "metadata": {
        "id": "RWyCYg3OIcX7"
      }
    },
    {
      "cell_type": "code",
      "source": [
        "df['age_binned'] = pd.cut(df['age'], bins=5, labels=False)\n",
        "print(\"\\nDataFrame with Age Binning column:\")\n",
        "print(df[['age', 'age_binned']].head())"
      ],
      "metadata": {
        "id": "ViH14BpZIjdz",
        "colab": {
          "base_uri": "https://localhost:8080/"
        },
        "outputId": "945bfbdd-f155-4965-cdac-d0c072f19af6"
      },
      "execution_count": 4,
      "outputs": [
        {
          "output_type": "stream",
          "name": "stdout",
          "text": [
            "\n",
            "DataFrame with Age Binning column:\n",
            "          age  age_binned\n",
            "0  272.372422           2\n",
            "1  280.429390           2\n",
            "2  429.185698           4\n",
            "3  347.725370           3\n",
            "4  356.482692           3\n"
          ]
        }
      ]
    },
    {
      "cell_type": "markdown",
      "source": [
        "## 4. Find the most orthogonal feature to the 'chol' feature"
      ],
      "metadata": {
        "id": "BkXOa5r2IkAh"
      }
    },
    {
      "cell_type": "code",
      "source": [
        "correlation_matrix = df.corr()\n",
        "chol_correlations = correlation_matrix['chol'].drop('chol')\n",
        "most_orthogonal_feature = chol_correlations.abs().idxmin()\n",
        "print(f\"\\nThe most orthogonal feature to 'chol' is: {most_orthogonal_feature}\")"
      ],
      "metadata": {
        "id": "TGjUk6IwI1Ea",
        "colab": {
          "base_uri": "https://localhost:8080/"
        },
        "outputId": "ad055497-0d16-4b91-fe2f-918df1ddf733"
      },
      "execution_count": 5,
      "outputs": [
        {
          "output_type": "stream",
          "name": "stdout",
          "text": [
            "\n",
            "The most orthogonal feature to 'chol' is: slope\n"
          ]
        }
      ]
    },
    {
      "cell_type": "code",
      "source": [],
      "metadata": {
        "id": "x4mRYVy3ZvX_"
      },
      "execution_count": 5,
      "outputs": []
    }
  ]
}