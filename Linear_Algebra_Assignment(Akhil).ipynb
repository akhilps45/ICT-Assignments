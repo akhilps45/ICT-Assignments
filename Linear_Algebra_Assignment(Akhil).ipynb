{
  "cells": [
    {
      "cell_type": "markdown",
      "metadata": {
        "id": "view-in-github",
        "colab_type": "text"
      },
      "source": [
        "<a href=\"https://colab.research.google.com/github/akhilps45/ICT-Assignments/blob/main/Linear_Algebra_Assignment(Akhil).ipynb\" target=\"_parent\"><img src=\"https://colab.research.google.com/assets/colab-badge.svg\" alt=\"Open In Colab\"/></a>"
      ]
    },
    {
      "cell_type": "markdown",
      "id": "c1420930",
      "metadata": {
        "id": "c1420930"
      },
      "source": [
        "# Linear Algebra Assignment"
      ]
    },
    {
      "cell_type": "markdown",
      "id": "5222df71",
      "metadata": {
        "id": "5222df71"
      },
      "source": [
        "### Question 1\n",
        "Using auto-mpg data, find the top 5 similar cars to toyota corona mark ii"
      ]
    },
    {
      "cell_type": "code",
      "execution_count": null,
      "id": "67aa0659",
      "metadata": {
        "vscode": {
          "languageId": "plaintext"
        },
        "colab": {
          "base_uri": "https://localhost:8080/",
          "height": 223
        },
        "id": "67aa0659",
        "outputId": "3ab3986b-4d01-4553-cce1-e41cd97de89a"
      },
      "outputs": [
        {
          "output_type": "stream",
          "name": "stdout",
          "text": [
            "Top 5 similar cars to 'toyota corona mark ii' based on dot product:\n"
          ]
        },
        {
          "output_type": "execute_result",
          "data": {
            "text/plain": [
              "                     car name\n",
              "44        pontiac safari (sw)\n",
              "103          chevrolet impala\n",
              "42          dodge monaco (sw)\n",
              "95   buick electra 225 custom\n",
              "90   mercury marquis brougham"
            ],
            "text/html": [
              "\n",
              "  <div id=\"df-7267c6d3-beb5-43cf-a855-45bc1666445f\" class=\"colab-df-container\">\n",
              "    <div>\n",
              "<style scoped>\n",
              "    .dataframe tbody tr th:only-of-type {\n",
              "        vertical-align: middle;\n",
              "    }\n",
              "\n",
              "    .dataframe tbody tr th {\n",
              "        vertical-align: top;\n",
              "    }\n",
              "\n",
              "    .dataframe thead th {\n",
              "        text-align: right;\n",
              "    }\n",
              "</style>\n",
              "<table border=\"1\" class=\"dataframe\">\n",
              "  <thead>\n",
              "    <tr style=\"text-align: right;\">\n",
              "      <th></th>\n",
              "      <th>car name</th>\n",
              "    </tr>\n",
              "  </thead>\n",
              "  <tbody>\n",
              "    <tr>\n",
              "      <th>44</th>\n",
              "      <td>pontiac safari (sw)</td>\n",
              "    </tr>\n",
              "    <tr>\n",
              "      <th>103</th>\n",
              "      <td>chevrolet impala</td>\n",
              "    </tr>\n",
              "    <tr>\n",
              "      <th>42</th>\n",
              "      <td>dodge monaco (sw)</td>\n",
              "    </tr>\n",
              "    <tr>\n",
              "      <th>95</th>\n",
              "      <td>buick electra 225 custom</td>\n",
              "    </tr>\n",
              "    <tr>\n",
              "      <th>90</th>\n",
              "      <td>mercury marquis brougham</td>\n",
              "    </tr>\n",
              "  </tbody>\n",
              "</table>\n",
              "</div>\n",
              "    <div class=\"colab-df-buttons\">\n",
              "\n",
              "  <div class=\"colab-df-container\">\n",
              "    <button class=\"colab-df-convert\" onclick=\"convertToInteractive('df-7267c6d3-beb5-43cf-a855-45bc1666445f')\"\n",
              "            title=\"Convert this dataframe to an interactive table.\"\n",
              "            style=\"display:none;\">\n",
              "\n",
              "  <svg xmlns=\"http://www.w3.org/2000/svg\" height=\"24px\" viewBox=\"0 -960 960 960\">\n",
              "    <path d=\"M120-120v-720h720v720H120Zm60-500h600v-160H180v160Zm220 220h160v-160H400v160Zm0 220h160v-160H400v160ZM180-400h160v-160H180v160Zm440 0h160v-160H620v160ZM180-180h160v-160H180v160Zm440 0h160v-160H620v160Z\"/>\n",
              "  </svg>\n",
              "    </button>\n",
              "\n",
              "  <style>\n",
              "    .colab-df-container {\n",
              "      display:flex;\n",
              "      gap: 12px;\n",
              "    }\n",
              "\n",
              "    .colab-df-convert {\n",
              "      background-color: #E8F0FE;\n",
              "      border: none;\n",
              "      border-radius: 50%;\n",
              "      cursor: pointer;\n",
              "      display: none;\n",
              "      fill: #1967D2;\n",
              "      height: 32px;\n",
              "      padding: 0 0 0 0;\n",
              "      width: 32px;\n",
              "    }\n",
              "\n",
              "    .colab-df-convert:hover {\n",
              "      background-color: #E2EBFA;\n",
              "      box-shadow: 0px 1px 2px rgba(60, 64, 67, 0.3), 0px 1px 3px 1px rgba(60, 64, 67, 0.15);\n",
              "      fill: #174EA6;\n",
              "    }\n",
              "\n",
              "    .colab-df-buttons div {\n",
              "      margin-bottom: 4px;\n",
              "    }\n",
              "\n",
              "    [theme=dark] .colab-df-convert {\n",
              "      background-color: #3B4455;\n",
              "      fill: #D2E3FC;\n",
              "    }\n",
              "\n",
              "    [theme=dark] .colab-df-convert:hover {\n",
              "      background-color: #434B5C;\n",
              "      box-shadow: 0px 1px 3px 1px rgba(0, 0, 0, 0.15);\n",
              "      filter: drop-shadow(0px 1px 2px rgba(0, 0, 0, 0.3));\n",
              "      fill: #FFFFFF;\n",
              "    }\n",
              "  </style>\n",
              "\n",
              "    <script>\n",
              "      const buttonEl =\n",
              "        document.querySelector('#df-7267c6d3-beb5-43cf-a855-45bc1666445f button.colab-df-convert');\n",
              "      buttonEl.style.display =\n",
              "        google.colab.kernel.accessAllowed ? 'block' : 'none';\n",
              "\n",
              "      async function convertToInteractive(key) {\n",
              "        const element = document.querySelector('#df-7267c6d3-beb5-43cf-a855-45bc1666445f');\n",
              "        const dataTable =\n",
              "          await google.colab.kernel.invokeFunction('convertToInteractive',\n",
              "                                                    [key], {});\n",
              "        if (!dataTable) return;\n",
              "\n",
              "        const docLinkHtml = 'Like what you see? Visit the ' +\n",
              "          '<a target=\"_blank\" href=https://colab.research.google.com/notebooks/data_table.ipynb>data table notebook</a>'\n",
              "          + ' to learn more about interactive tables.';\n",
              "        element.innerHTML = '';\n",
              "        dataTable['output_type'] = 'display_data';\n",
              "        await google.colab.output.renderOutput(dataTable, element);\n",
              "        const docLink = document.createElement('div');\n",
              "        docLink.innerHTML = docLinkHtml;\n",
              "        element.appendChild(docLink);\n",
              "      }\n",
              "    </script>\n",
              "  </div>\n",
              "\n",
              "\n",
              "    <div id=\"df-c045853e-77bd-4644-a3fc-5a93165187b6\">\n",
              "      <button class=\"colab-df-quickchart\" onclick=\"quickchart('df-c045853e-77bd-4644-a3fc-5a93165187b6')\"\n",
              "                title=\"Suggest charts\"\n",
              "                style=\"display:none;\">\n",
              "\n",
              "<svg xmlns=\"http://www.w3.org/2000/svg\" height=\"24px\"viewBox=\"0 0 24 24\"\n",
              "     width=\"24px\">\n",
              "    <g>\n",
              "        <path d=\"M19 3H5c-1.1 0-2 .9-2 2v14c0 1.1.9 2 2 2h14c1.1 0 2-.9 2-2V5c0-1.1-.9-2-2-2zM9 17H7v-7h2v7zm4 0h-2V7h2v10zm4 0h-2v-4h2v4z\"/>\n",
              "    </g>\n",
              "</svg>\n",
              "      </button>\n",
              "\n",
              "<style>\n",
              "  .colab-df-quickchart {\n",
              "      --bg-color: #E8F0FE;\n",
              "      --fill-color: #1967D2;\n",
              "      --hover-bg-color: #E2EBFA;\n",
              "      --hover-fill-color: #174EA6;\n",
              "      --disabled-fill-color: #AAA;\n",
              "      --disabled-bg-color: #DDD;\n",
              "  }\n",
              "\n",
              "  [theme=dark] .colab-df-quickchart {\n",
              "      --bg-color: #3B4455;\n",
              "      --fill-color: #D2E3FC;\n",
              "      --hover-bg-color: #434B5C;\n",
              "      --hover-fill-color: #FFFFFF;\n",
              "      --disabled-bg-color: #3B4455;\n",
              "      --disabled-fill-color: #666;\n",
              "  }\n",
              "\n",
              "  .colab-df-quickchart {\n",
              "    background-color: var(--bg-color);\n",
              "    border: none;\n",
              "    border-radius: 50%;\n",
              "    cursor: pointer;\n",
              "    display: none;\n",
              "    fill: var(--fill-color);\n",
              "    height: 32px;\n",
              "    padding: 0;\n",
              "    width: 32px;\n",
              "  }\n",
              "\n",
              "  .colab-df-quickchart:hover {\n",
              "    background-color: var(--hover-bg-color);\n",
              "    box-shadow: 0 1px 2px rgba(60, 64, 67, 0.3), 0 1px 3px 1px rgba(60, 64, 67, 0.15);\n",
              "    fill: var(--button-hover-fill-color);\n",
              "  }\n",
              "\n",
              "  .colab-df-quickchart-complete:disabled,\n",
              "  .colab-df-quickchart-complete:disabled:hover {\n",
              "    background-color: var(--disabled-bg-color);\n",
              "    fill: var(--disabled-fill-color);\n",
              "    box-shadow: none;\n",
              "  }\n",
              "\n",
              "  .colab-df-spinner {\n",
              "    border: 2px solid var(--fill-color);\n",
              "    border-color: transparent;\n",
              "    border-bottom-color: var(--fill-color);\n",
              "    animation:\n",
              "      spin 1s steps(1) infinite;\n",
              "  }\n",
              "\n",
              "  @keyframes spin {\n",
              "    0% {\n",
              "      border-color: transparent;\n",
              "      border-bottom-color: var(--fill-color);\n",
              "      border-left-color: var(--fill-color);\n",
              "    }\n",
              "    20% {\n",
              "      border-color: transparent;\n",
              "      border-left-color: var(--fill-color);\n",
              "      border-top-color: var(--fill-color);\n",
              "    }\n",
              "    30% {\n",
              "      border-color: transparent;\n",
              "      border-left-color: var(--fill-color);\n",
              "      border-top-color: var(--fill-color);\n",
              "      border-right-color: var(--fill-color);\n",
              "    }\n",
              "    40% {\n",
              "      border-color: transparent;\n",
              "      border-right-color: var(--fill-color);\n",
              "      border-top-color: var(--fill-color);\n",
              "    }\n",
              "    60% {\n",
              "      border-color: transparent;\n",
              "      border-right-color: var(--fill-color);\n",
              "    }\n",
              "    80% {\n",
              "      border-color: transparent;\n",
              "      border-right-color: var(--fill-color);\n",
              "      border-bottom-color: var(--fill-color);\n",
              "    }\n",
              "    90% {\n",
              "      border-color: transparent;\n",
              "      border-bottom-color: var(--fill-color);\n",
              "    }\n",
              "  }\n",
              "</style>\n",
              "\n",
              "      <script>\n",
              "        async function quickchart(key) {\n",
              "          const quickchartButtonEl =\n",
              "            document.querySelector('#' + key + ' button');\n",
              "          quickchartButtonEl.disabled = true;  // To prevent multiple clicks.\n",
              "          quickchartButtonEl.classList.add('colab-df-spinner');\n",
              "          try {\n",
              "            const charts = await google.colab.kernel.invokeFunction(\n",
              "                'suggestCharts', [key], {});\n",
              "          } catch (error) {\n",
              "            console.error('Error during call to suggestCharts:', error);\n",
              "          }\n",
              "          quickchartButtonEl.classList.remove('colab-df-spinner');\n",
              "          quickchartButtonEl.classList.add('colab-df-quickchart-complete');\n",
              "        }\n",
              "        (() => {\n",
              "          let quickchartButtonEl =\n",
              "            document.querySelector('#df-c045853e-77bd-4644-a3fc-5a93165187b6 button');\n",
              "          quickchartButtonEl.style.display =\n",
              "            google.colab.kernel.accessAllowed ? 'block' : 'none';\n",
              "        })();\n",
              "      </script>\n",
              "    </div>\n",
              "\n",
              "  <div id=\"id_bb013c6c-3b0c-44e4-bcf2-31b18363d379\">\n",
              "    <style>\n",
              "      .colab-df-generate {\n",
              "        background-color: #E8F0FE;\n",
              "        border: none;\n",
              "        border-radius: 50%;\n",
              "        cursor: pointer;\n",
              "        display: none;\n",
              "        fill: #1967D2;\n",
              "        height: 32px;\n",
              "        padding: 0 0 0 0;\n",
              "        width: 32px;\n",
              "      }\n",
              "\n",
              "      .colab-df-generate:hover {\n",
              "        background-color: #E2EBFA;\n",
              "        box-shadow: 0px 1px 2px rgba(60, 64, 67, 0.3), 0px 1px 3px 1px rgba(60, 64, 67, 0.15);\n",
              "        fill: #174EA6;\n",
              "      }\n",
              "\n",
              "      [theme=dark] .colab-df-generate {\n",
              "        background-color: #3B4455;\n",
              "        fill: #D2E3FC;\n",
              "      }\n",
              "\n",
              "      [theme=dark] .colab-df-generate:hover {\n",
              "        background-color: #434B5C;\n",
              "        box-shadow: 0px 1px 3px 1px rgba(0, 0, 0, 0.15);\n",
              "        filter: drop-shadow(0px 1px 2px rgba(0, 0, 0, 0.3));\n",
              "        fill: #FFFFFF;\n",
              "      }\n",
              "    </style>\n",
              "    <button class=\"colab-df-generate\" onclick=\"generateWithVariable('most_similar_cars')\"\n",
              "            title=\"Generate code using this dataframe.\"\n",
              "            style=\"display:none;\">\n",
              "\n",
              "  <svg xmlns=\"http://www.w3.org/2000/svg\" height=\"24px\"viewBox=\"0 0 24 24\"\n",
              "       width=\"24px\">\n",
              "    <path d=\"M7,19H8.4L18.45,9,17,7.55,7,17.6ZM5,21V16.75L18.45,3.32a2,2,0,0,1,2.83,0l1.4,1.43a1.91,1.91,0,0,1,.58,1.4,1.91,1.91,0,0,1-.58,1.4L9.25,21ZM18.45,9,17,7.55Zm-12,3A5.31,5.31,0,0,0,4.9,8.1,5.31,5.31,0,0,0,1,6.5,5.31,5.31,0,0,0,4.9,4.9,5.31,5.31,0,0,0,6.5,1,5.31,5.31,0,0,0,8.1,4.9,5.31,5.31,0,0,0,12,6.5,5.46,5.46,0,0,0,6.5,12Z\"/>\n",
              "  </svg>\n",
              "    </button>\n",
              "    <script>\n",
              "      (() => {\n",
              "      const buttonEl =\n",
              "        document.querySelector('#id_bb013c6c-3b0c-44e4-bcf2-31b18363d379 button.colab-df-generate');\n",
              "      buttonEl.style.display =\n",
              "        google.colab.kernel.accessAllowed ? 'block' : 'none';\n",
              "\n",
              "      buttonEl.onclick = () => {\n",
              "        google.colab.notebook.generateWithVariable('most_similar_cars');\n",
              "      }\n",
              "      })();\n",
              "    </script>\n",
              "  </div>\n",
              "\n",
              "    </div>\n",
              "  </div>\n"
            ],
            "application/vnd.google.colaboratory.intrinsic+json": {
              "type": "dataframe",
              "variable_name": "most_similar_cars",
              "summary": "{\n  \"name\": \"most_similar_cars\",\n  \"rows\": 5,\n  \"fields\": [\n    {\n      \"column\": \"car name\",\n      \"properties\": {\n        \"dtype\": \"string\",\n        \"num_unique_values\": 5,\n        \"samples\": [\n          \"chevrolet impala\",\n          \"mercury marquis brougham\",\n          \"dodge monaco (sw)\"\n        ],\n        \"semantic_type\": \"\",\n        \"description\": \"\"\n      }\n    }\n  ]\n}"
            }
          },
          "metadata": {},
          "execution_count": 11
        }
      ],
      "source": [
        "# Your code here\n",
        "import pandas as pd\n",
        "import numpy as np\n",
        "df = pd.read_csv(\"auto-mpg.csv\")\n",
        "toyota_corona_mark_ii_features = df[df['car name'] == 'toyota corona mark ii'].select_dtypes(include=np.number).dropna().iloc[0]\n",
        "other_cars = df[df['car name'] != 'toyota corona mark ii'].select_dtypes(include=np.number).dropna()\n",
        "\n",
        "dot_products = other_cars.apply(lambda row: np.dot(row, toyota_corona_mark_ii_features), axis=1)\n",
        "most_similar_cars_indices = dot_products.nlargest(5).index\n",
        "most_similar_cars = df.loc[most_similar_cars_indices][['car name']]\n",
        "\n",
        "print(\"Top 5 similar cars to 'toyota corona mark ii' based on dot product:\")\n",
        "most_similar_cars"
      ]
    },
    {
      "cell_type": "markdown",
      "id": "8c9e5c34",
      "metadata": {
        "id": "8c9e5c34"
      },
      "source": [
        "### Question 2\n",
        "Find completely unique/orthogonal car to toyota corona mark ii"
      ]
    },
    {
      "cell_type": "code",
      "execution_count": null,
      "id": "249fe683",
      "metadata": {
        "vscode": {
          "languageId": "plaintext"
        },
        "colab": {
          "base_uri": "https://localhost:8080/",
          "height": 383
        },
        "id": "249fe683",
        "outputId": "4a47a5bb-0f4f-40ce-b924-bb5718cb00a8"
      },
      "outputs": [
        {
          "output_type": "stream",
          "name": "stdout",
          "text": [
            "Car most orthogonal to 'toyota corona mark ii' based on cosine similarity:\n"
          ]
        },
        {
          "output_type": "execute_result",
          "data": {
            "text/plain": [
              "car name        buick estate wagon (sw)\n",
              "mpg                                14.0\n",
              "cylinders                             8\n",
              "displacement                      455.0\n",
              "horsepower                          225\n",
              "weight                             3086\n",
              "acceleration                       10.0\n",
              "model year                           70\n",
              "origin                                1\n",
              "Name: 13, dtype: object"
            ],
            "text/html": [
              "<div>\n",
              "<style scoped>\n",
              "    .dataframe tbody tr th:only-of-type {\n",
              "        vertical-align: middle;\n",
              "    }\n",
              "\n",
              "    .dataframe tbody tr th {\n",
              "        vertical-align: top;\n",
              "    }\n",
              "\n",
              "    .dataframe thead th {\n",
              "        text-align: right;\n",
              "    }\n",
              "</style>\n",
              "<table border=\"1\" class=\"dataframe\">\n",
              "  <thead>\n",
              "    <tr style=\"text-align: right;\">\n",
              "      <th></th>\n",
              "      <th>13</th>\n",
              "    </tr>\n",
              "  </thead>\n",
              "  <tbody>\n",
              "    <tr>\n",
              "      <th>car name</th>\n",
              "      <td>buick estate wagon (sw)</td>\n",
              "    </tr>\n",
              "    <tr>\n",
              "      <th>mpg</th>\n",
              "      <td>14.0</td>\n",
              "    </tr>\n",
              "    <tr>\n",
              "      <th>cylinders</th>\n",
              "      <td>8</td>\n",
              "    </tr>\n",
              "    <tr>\n",
              "      <th>displacement</th>\n",
              "      <td>455.0</td>\n",
              "    </tr>\n",
              "    <tr>\n",
              "      <th>horsepower</th>\n",
              "      <td>225</td>\n",
              "    </tr>\n",
              "    <tr>\n",
              "      <th>weight</th>\n",
              "      <td>3086</td>\n",
              "    </tr>\n",
              "    <tr>\n",
              "      <th>acceleration</th>\n",
              "      <td>10.0</td>\n",
              "    </tr>\n",
              "    <tr>\n",
              "      <th>model year</th>\n",
              "      <td>70</td>\n",
              "    </tr>\n",
              "    <tr>\n",
              "      <th>origin</th>\n",
              "      <td>1</td>\n",
              "    </tr>\n",
              "  </tbody>\n",
              "</table>\n",
              "</div><br><label><b>dtype:</b> object</label>"
            ]
          },
          "metadata": {},
          "execution_count": 12
        }
      ],
      "source": [
        "# Your code here\n",
        "toyota_corona_mark_ii_features = df[df['car name'] == 'toyota corona mark ii'].select_dtypes(include=np.number).dropna().iloc[0]\n",
        "other_cars = df[df['car name'] != 'toyota corona mark ii'].select_dtypes(include=np.number).dropna()\n",
        "\n",
        "def cosine_similarity(vec1, vec2):\n",
        "  dot_product = np.dot(vec1, vec2)\n",
        "  norm_vec1 = np.linalg.norm(vec1)\n",
        "  norm_vec2 = np.linalg.norm(vec2)\n",
        "  if norm_vec1 == 0 or norm_vec2 == 0:\n",
        "    return 0\n",
        "  return dot_product / (norm_vec1 * norm_vec2)\n",
        "\n",
        "similarities = other_cars.apply(lambda row: cosine_similarity(row, toyota_corona_mark_ii_features), axis=1)\n",
        "\n",
        "least_similar_car_index = similarities.nsmallest(1).index[0]\n",
        "least_similar_car = df.loc[least_similar_car_index][['car name', 'mpg', 'cylinders', 'displacement', 'horsepower', 'weight', 'acceleration', 'model year', 'origin']]\n",
        "\n",
        "print(\"Car most orthogonal to 'toyota corona mark ii' based on cosine similarity:\")\n",
        "least_similar_car"
      ]
    },
    {
      "cell_type": "markdown",
      "id": "39d7a2d2",
      "metadata": {
        "id": "39d7a2d2"
      },
      "source": [
        "### Question 3\n",
        "Project the data to a 2-dimentional space and visualize using scatter plot"
      ]
    },
    {
      "cell_type": "code",
      "execution_count": null,
      "id": "7b04477f",
      "metadata": {
        "vscode": {
          "languageId": "plaintext"
        },
        "colab": {
          "base_uri": "https://localhost:8080/",
          "height": 599
        },
        "id": "7b04477f",
        "outputId": "1df4508d-198f-455b-867f-493a2f0328f6"
      },
      "outputs": [
        {
          "output_type": "stream",
          "name": "stdout",
          "text": [
            "Original data shape: (398, 7)\n",
            "Projected data shape (2D): (398, 2)\n"
          ]
        },
        {
          "output_type": "display_data",
          "data": {
            "text/plain": [
              "<Figure size 800x600 with 2 Axes>"
            ],
            "image/png": "[encoded data removed]"
          },
          "metadata": {}
        }
      ],
      "source": [
        "from sklearn.decomposition import PCA\n",
        "import numpy as np\n",
        "import matplotlib.pyplot as plt\n",
        "\n",
        "pca = PCA(n_components=2)\n",
        "\n",
        "X = df.select_dtypes(include=np.number).dropna()\n",
        "\n",
        "X_2d = pca.fit_transform(X)\n",
        "\n",
        "print(\"Original data shape:\", X.shape)\n",
        "print(\"Projected data shape (2D):\", X_2d.shape)\n",
        "\n",
        "y = df.loc[X.index, 'mpg']\n",
        "\n",
        "if 'y' in globals():\n",
        "    plt.figure(figsize=(8, 6))\n",
        "    plt.scatter(X_2d[:, 0], X_2d[:, 1], c=y, cmap='viridis', s=50)\n",
        "    plt.title(\"Data Projected to 2D using PCA\")\n",
        "    plt.xlabel(\"Principal Component 1\")\n",
        "    plt.ylabel(\"Principal Component 2\")\n",
        "    plt.colorbar(label='Target')\n",
        "    plt.show()\n",
        "else:\n",
        "    print(\"Target variable 'y' not found. Scatter plot will not be colored by target.\")\n",
        "    plt.figure(figsize=(8, 6))\n",
        "    plt.scatter(X_2d[:, 0], X_2d[:, 1], s=50)\n",
        "    plt.title(\"Data Projected to 2D using PCA\")\n",
        "    plt.xlabel(\"Principal Component 1\")\n",
        "    plt.ylabel(\"Principal Component 2\")\n",
        "    plt.show()"
      ]
    },
    {
      "cell_type": "markdown",
      "id": "7aa6151d",
      "metadata": {
        "id": "7aa6151d"
      },
      "source": [
        "### Question 4\n",
        "Write a function that returns dot product of two list of numbers"
      ]
    },
    {
      "cell_type": "code",
      "execution_count": null,
      "id": "3cf99ab5",
      "metadata": {
        "vscode": {
          "languageId": "plaintext"
        },
        "colab": {
          "base_uri": "https://localhost:8080/"
        },
        "id": "3cf99ab5",
        "outputId": "f124cf9f-83e3-4e61-bf1c-4127b43899da"
      },
      "outputs": [
        {
          "output_type": "stream",
          "name": "stdout",
          "text": [
            "The dot product of [1, 2, 3] and [4, 5, 6] is: 32\n"
          ]
        }
      ],
      "source": [
        "# Your code here\n",
        "def your_function_21(l1,l2):\n",
        "    if len(l1) != len(l2):\n",
        "     raise ValueError(\"Lists must have the same length for dot product.\")\n",
        "    return sum(x * y for x, y in zip(l1, l2))\n",
        "list1 = [1, 2, 3]\n",
        "list2 = [4, 5, 6]\n",
        "result = your_function_21(list1, list2)\n",
        "print(f\"The dot product of {list1} and {list2} is: {result}\")"
      ]
    },
    {
      "cell_type": "markdown",
      "id": "e6657c17",
      "metadata": {
        "id": "e6657c17"
      },
      "source": [
        "### Question 5\n",
        "Write a function that returns the projection of vector a onto vector b. Both a and b are given as list of numbers"
      ]
    },
    {
      "cell_type": "code",
      "execution_count": null,
      "id": "25a24bdc",
      "metadata": {
        "vscode": {
          "languageId": "plaintext"
        },
        "colab": {
          "base_uri": "https://localhost:8080/"
        },
        "id": "25a24bdc",
        "outputId": "6cabb352-7f77-4b45-802b-7f23324f2ea8"
      },
      "outputs": [
        {
          "output_type": "stream",
          "name": "stdout",
          "text": [
            "The projection of vector [1, 2, 3] onto vector [4, 5, 6] is: [1.6623376623376624, 2.077922077922078, 2.4935064935064934]\n"
          ]
        }
      ],
      "source": [
        "# Your code here\n",
        "def your_function_22(a,b):\n",
        "  if len(a) != len(b):\n",
        "    raise ValueError(\"Vectors must have the same length.\")\n",
        "  b_np = np.array(b)\n",
        "  if np.linalg.norm(b_np) == 0:\n",
        "    return [0.0] * len(a)\n",
        "  dot_prod_ab = np.dot(a, b)\n",
        "  norm_b_squared = np.dot(b_np, b_np)\n",
        "  projection = (dot_prod_ab / norm_b_squared) * b_np\n",
        "  return projection.tolist()\n",
        "vector_a = [1, 2, 3]\n",
        "vector_b = [4, 5, 6]\n",
        "projection_result = your_function_22(vector_a, vector_b)\n",
        "print(f\"The projection of vector {vector_a} onto vector {vector_b} is: {projection_result}\")"
      ]
    },
    {
      "cell_type": "markdown",
      "id": "219b6efc",
      "metadata": {
        "id": "219b6efc"
      },
      "source": [
        "### Question 6\n",
        "Create a class Vector that supports addition, dot product, and magnitude."
      ]
    },
    {
      "cell_type": "code",
      "execution_count": null,
      "id": "3aaaa102",
      "metadata": {
        "vscode": {
          "languageId": "plaintext"
        },
        "colab": {
          "base_uri": "https://localhost:8080/"
        },
        "id": "3aaaa102",
        "outputId": "07352a70-a5c3-45b6-8849-d9b2042d3671"
      },
      "outputs": [
        {
          "output_type": "stream",
          "name": "stdout",
          "text": [
            "Vector sum: Vector([5, 7, 9])\n",
            "Dot product: 32\n",
            "Magnitude of vector1: 3.7416573867739413\n",
            "Magnitude of vector2: 8.774964387392123\n"
          ]
        }
      ],
      "source": [
        "# Your code here\n",
        "class Vector:\n",
        "  def __init__(self, components):\n",
        "    if not isinstance(components, (list, tuple)):\n",
        "      raise TypeError(\"Vector components must be a list or tuple.\")\n",
        "    if not all(isinstance(c, (int, float)) for c in components):\n",
        "      raise TypeError(\"Vector components must be numbers.\")\n",
        "    self.components = list(components)\n",
        "    self.dimension = len(components)\n",
        "  def __str__(self):\n",
        "    return f\"Vector({self.components})\"\n",
        "  def __repr__(self):\n",
        "    return f\"Vector({self.components})\"\n",
        "  def __add__(self, other):\n",
        "    if not isinstance(other, Vector):\n",
        "      raise TypeError(\"Can only add Vector objects.\")\n",
        "    if self.dimension != other.dimension:\n",
        "      raise ValueError(\"Vectors must have the same dimension for addition.\")\n",
        "    new_components = [x + y for x, y in zip(self.components, other.components)]\n",
        "    return Vector(new_components)\n",
        "  def dot_product(self, other):\n",
        "    if not isinstance(other, Vector):\n",
        "      raise TypeError(\"Can only calculate dot product with Vector objects.\")\n",
        "    if self.dimension != other.dimension:\n",
        "      raise ValueError(\"Vectors must have the same dimension for dot product.\")\n",
        "    return sum(x * y for x, y in zip(self.components, other.components))\n",
        "  def magnitude(self):\n",
        "    return np.linalg.norm(self.components)\n",
        "\n",
        "vector1 = Vector([1, 2, 3])\n",
        "vector2 = Vector([4, 5, 6])\n",
        "\n",
        "\n",
        "vector_sum = vector1 + vector2\n",
        "print(f\"Vector sum: {vector_sum}\")\n",
        "\n",
        "\n",
        "dot_prod_result = vector1.dot_product(vector2)\n",
        "print(f\"Dot product: {dot_prod_result}\")\n",
        "\n",
        "\n",
        "magnitude1 = vector1.magnitude()\n",
        "magnitude2 = vector2.magnitude()\n",
        "print(f\"Magnitude of vector1: {magnitude1}\")\n",
        "print(f\"Magnitude of vector2: {magnitude2}\")"
      ]
    },
    {
      "cell_type": "markdown",
      "id": "5788f326",
      "metadata": {
        "id": "5788f326"
      },
      "source": [
        "### Question 7\n",
        "Write a function that returns the L1 and L2 norms of a vector given as list"
      ]
    },
    {
      "cell_type": "code",
      "execution_count": null,
      "id": "6bc87def",
      "metadata": {
        "vscode": {
          "languageId": "plaintext"
        },
        "colab": {
          "base_uri": "https://localhost:8080/"
        },
        "id": "6bc87def",
        "outputId": "d17e6beb-98a6-4d4a-b07a-49f9765bbd2f"
      },
      "outputs": [
        {
          "output_type": "stream",
          "name": "stdout",
          "text": [
            "The L1 norm of [1, 2, 3, 4] is: 10.0\n",
            "The L2 norm of [1, 2, 3, 4] is: 5.477225575051661\n"
          ]
        }
      ],
      "source": [
        "# Your code here\n",
        "def your_function_28(vector_list):\n",
        "  vector_np = np.array(vector_list)\n",
        "  l1_norm = np.linalg.norm(vector_np, ord=1)\n",
        "  l2_norm = np.linalg.norm(vector_np, ord=2)\n",
        "  return (l1_norm, l2_norm)\n",
        "\n",
        "vector_example = [1, 2, 3, 4]\n",
        "l1, l2 = your_function_28(vector_example)\n",
        "print(f\"The L1 norm of {vector_example} is: {l1}\")\n",
        "print(f\"The L2 norm of {vector_example} is: {l2}\")"
      ]
    },
    {
      "cell_type": "code",
      "source": [],
      "metadata": {
        "id": "7yxZkjt5NeL3"
      },
      "id": "7yxZkjt5NeL3",
      "execution_count": null,
      "outputs": []
    }
  ],
  "metadata": {
    "language_info": {
      "name": "python"
    },
    "colab": {
      "provenance": [],
      "include_colab_link": true
    },
    "kernelspec": {
      "name": "python3",
      "display_name": "Python 3"
    }
  },
  "nbformat": 4,
  "nbformat_minor": 5
}